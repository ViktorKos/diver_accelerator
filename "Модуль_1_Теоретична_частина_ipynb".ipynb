{
  "nbformat": 4,
  "nbformat_minor": 0,
  "metadata": {
    "colab": {
      "provenance": [],
      "toc_visible": true,
      "include_colab_link": true
    },
    "kernelspec": {
      "name": "python3",
      "display_name": "Python 3"
    },
    "language_info": {
      "name": "python"
    }
  },
  "cells": [
    {
      "cell_type": "markdown",
      "metadata": {
        "id": "view-in-github",
        "colab_type": "text"
      },
      "source": [
        "<a href=\"https://colab.research.google.com/github/ViktorKos/diver_accelerator/blob/main/%22%D0%9C%D0%BE%D0%B4%D1%83%D0%BB%D1%8C_1_%D0%A2%D0%B5%D0%BE%D1%80%D0%B5%D1%82%D0%B8%D1%87%D0%BD%D0%B0_%D1%87%D0%B0%D1%81%D1%82%D0%B8%D0%BD%D0%B0_ipynb%22.ipynb\" target=\"_parent\"><img src=\"https://colab.research.google.com/assets/colab-badge.svg\" alt=\"Open In Colab\"/></a>"
      ]
    },
    {
      "cell_type": "markdown",
      "metadata": {
        "id": "OeHSz3_b5ehN"
      },
      "source": [
        "# Задачі для теоретичного заняття першого дня\n",
        "\n",
        "Задачі теоретичного блоку: продемонструвати на практичному прикладі теорію пов'язану з змінними в Python, поняття оператор і операнд, коментарі, їх оголошення і види\n",
        "\n",
        "Для самостійного опрацювання і спроб запускати всі існуючі задачі не заважаючи іншим студентам курсу потрібно здійснити наступні кроки:\n",
        "\n",
        "1. Натиснути кнопку \"Файл\" в лівому верхньому куті\n",
        "2. Вибрати пункт \"Зберегти копію на диску\"\n",
        "3. У вікні з вашою копією у правому верхньому куті натиснути \"Підключитись\"\n",
        "\n",
        "Можете запускати всі задачі, які забажаєте і писати власні програми вивчаючи функціонал цього середовища\n"
      ]
    },
    {
      "cell_type": "markdown",
      "source": [
        "### Альтернативні середовища для навчання/роботи\n",
        "Посилання на сам Python:\\\n",
        "https://www.python.org/\n",
        "\n",
        "Посилання на Jupyter\\\n",
        "https://jupyter.org/install\n",
        "\n",
        "Посилання на PyCharm\\\n",
        "https://www.jetbrains.com/pycharm/download/?section=windows\n",
        "\n",
        "Посилання на Visual Studio Code\\\n",
        "https://code.visualstudio.com/\n",
        "\n",
        "Посилання на Notepad++\\\n",
        "https://notepad-plus-plus.org/downloads/\n"
      ],
      "metadata": {
        "id": "766UNY4ALTMP"
      }
    },
    {
      "cell_type": "markdown",
      "metadata": {
        "id": "nj7xUMn2xUFm"
      },
      "source": [
        "## Перша програма в Python\n"
      ]
    },
    {
      "cell_type": "code",
      "source": [
        "print(\"Hello world\")"
      ],
      "metadata": {
        "colab": {
          "base_uri": "https://localhost:8080/"
        },
        "id": "sByPzX1bxeOU",
        "outputId": "0f7a64e1-9f7a-4771-e0c1-864b6a9ddde9"
      },
      "execution_count": null,
      "outputs": [
        {
          "output_type": "stream",
          "name": "stdout",
          "text": [
            "Hello world\n"
          ]
        }
      ]
    },
    {
      "cell_type": "markdown",
      "metadata": {
        "id": "FEiST8Eb6C7Q"
      },
      "source": [
        "## Відображення інціалізації змінних в Python"
      ]
    },
    {
      "cell_type": "code",
      "metadata": {
        "colab": {
          "base_uri": "https://localhost:8080/"
        },
        "id": "4R7C6tzR5Vhh",
        "outputId": "fcce6567-5d42-4557-87db-2c9148f053f4"
      },
      "source": [
        "name = \"John\"\n",
        "age = 25\n",
        "height = 1.67\n",
        "is_student = True\n",
        "has_high_degree = None\n",
        "\n",
        "print(name)\n",
        "print(age)\n",
        "print(height)\n",
        "print(is_student)\n",
        "print(has_high_degree)"
      ],
      "execution_count": null,
      "outputs": [
        {
          "output_type": "stream",
          "name": "stdout",
          "text": [
            "John\n",
            "25\n",
            "1.67\n",
            "True\n",
            "None\n"
          ]
        }
      ]
    },
    {
      "cell_type": "markdown",
      "source": [
        "## Відображення коментарів"
      ],
      "metadata": {
        "id": "3sJaQu73C2XS"
      }
    },
    {
      "cell_type": "code",
      "source": [
        "# Короткий коментар\n",
        "\n",
        "fruit = 'apple'\n",
        "\n",
        "\"\"\"\n",
        "Багато багато тексту,\n",
        "Що не впливає на працездатність програми\n",
        "Тільки допомагає краще зрозуміти(коли написаний коректно),\n",
        "Що саме у програмі відбувається)\n",
        "\"\"\"\n",
        "\n",
        "print(fruit)"
      ],
      "metadata": {
        "colab": {
          "base_uri": "https://localhost:8080/"
        },
        "id": "D7Glg9NcCVi6",
        "outputId": "67c744a1-92d9-4e61-8f81-1b40e0df71a6"
      },
      "execution_count": null,
      "outputs": [
        {
          "output_type": "stream",
          "name": "stdout",
          "text": [
            "apple\n"
          ]
        }
      ]
    },
    {
      "cell_type": "markdown",
      "source": [
        "## Іменування змінних"
      ],
      "metadata": {
        "id": "HFyA3w6aAW0M"
      }
    },
    {
      "cell_type": "code",
      "source": [
        "# Правильне іменування змінних\n",
        "name = \"John\"\n",
        "age = 25\n",
        "is_student = True\n",
        "\n",
        "# Правильне використання констант\n",
        "PI = 3.14159\n",
        "MAX_VALUE = 100\n",
        "DEFAULT_NAME = \"John Doe\"\n",
        "\n",
        "# Правильне іменування змінних з використанням змінних з інших змінних\n",
        "width = 10\n",
        "height = 5\n",
        "area = width * height\n",
        "\n",
        "# Неправильне іменування змінних\n",
        "n = \"John\"  # непояснююче ім'я змінної\n",
        "x = True    # непояснююче ім'я змінної\n",
        "f = 10.5    # непояснююче ім'я змінної\n",
        "\n",
        "# Неправильне іменування змінної з використанням цифр та спецсимволів\n",
        "2variable = \"Invalid\"   # початок змінної з цифри\n",
        "$price = 100            # початок змінної зі спецсимволу\n",
        "\n",
        "# Неправильне іменування змінних з використанням зарезервованих слів\n",
        "class = \"Invalid\"       # зарезервоване слово використовується як назва змінної\n",
        "if = True               # зарезервоване слово використовується як назва змінної"
      ],
      "metadata": {
        "id": "joCBo-bpAYYz"
      },
      "execution_count": null,
      "outputs": []
    },
    {
      "cell_type": "markdown",
      "source": [
        " Зарезервовані слова: False, None, True, and, as, assert, async, await, break, class, continue, def, del, elif, else, except, finally, for, from, global, if, import, in, is, lambda, nonlocal, not, or, pass, raise, return, try, while, with, yield"
      ],
      "metadata": {
        "id": "HKErevIvBxNc"
      }
    },
    {
      "cell_type": "markdown",
      "metadata": {
        "id": "DLMQ6iF361Hw"
      },
      "source": [
        "## Ініціалізація декількох змінних одночасно\n"
      ]
    },
    {
      "cell_type": "code",
      "metadata": {
        "colab": {
          "base_uri": "https://localhost:8080/"
        },
        "id": "KOo2U_sI7tGi",
        "outputId": "a2550a69-249f-42e4-f8dc-20a9872714be"
      },
      "source": [
        "x = y = z = 99\n",
        "a, b, c = 1, 2, 3\n",
        "\n",
        "print(x, y, z)\n",
        "print(a, b, c, sep=\" : \")"
      ],
      "execution_count": null,
      "outputs": [
        {
          "output_type": "stream",
          "name": "stdout",
          "text": [
            "99 99 99\n",
            "1 : 2 : 3\n"
          ]
        }
      ]
    },
    {
      "cell_type": "markdown",
      "source": [
        "## Форматування виведення інформації\n"
      ],
      "metadata": {
        "id": "ySg9BoeODaka"
      }
    },
    {
      "cell_type": "code",
      "source": [
        "name = \"Alice\"\n",
        "age = 30\n",
        "\n",
        "message = \"My name is %s. I am %d years old.\" % (name, age)\n",
        "print(message)\n",
        "\n",
        "message = \"My name is {}. I am {} years old.\".format(name, age)\n",
        "print(message)\n",
        "\n",
        "message = f\"My name is {name}. I am {age} years old.\"\n",
        "print(message)\n",
        "\n",
        "name = \"Alice\"\n",
        "age = '30'\n",
        "\n",
        "message = \"My name is \" + name + \". I am \"+ age + \" years old.\"\n",
        "print(message)"
      ],
      "metadata": {
        "colab": {
          "base_uri": "https://localhost:8080/"
        },
        "id": "GfENVs1KEELY",
        "outputId": "ebbdaf8e-2913-4a7c-f19c-e5baae4fc6b3"
      },
      "execution_count": null,
      "outputs": [
        {
          "output_type": "stream",
          "name": "stdout",
          "text": [
            "My name is Alice. I am 30 years old.\n",
            "My name is Alice. I am 30 years old.\n",
            "My name is Alice. I am 30 years old.\n",
            "My name is Alice. I am 30 years old.\n"
          ]
        }
      ]
    },
    {
      "cell_type": "code",
      "source": [
        "message = \"My name is {name}. I am {age} years old.\"\n",
        "print(message)"
      ],
      "metadata": {
        "colab": {
          "base_uri": "https://localhost:8080/"
        },
        "id": "nz6zmXrzFzBu",
        "outputId": "15ca8b45-83b2-4979-80e6-9190d5f5fe58"
      },
      "execution_count": null,
      "outputs": [
        {
          "output_type": "stream",
          "name": "stdout",
          "text": [
            "My name is {name}. I am {age} years old.\n"
          ]
        }
      ]
    },
    {
      "cell_type": "markdown",
      "metadata": {
        "id": "dCUJCGdg8gpI"
      },
      "source": [
        "## Ініціалізація змінних зі значеннями з інших змінних\n"
      ]
    },
    {
      "cell_type": "code",
      "metadata": {
        "colab": {
          "base_uri": "https://localhost:8080/"
        },
        "id": "KHR1m0G_8q5K",
        "outputId": "bff0d61a-e2e7-406e-a140-77a70e0901ea"
      },
      "source": [
        "width = 4\n",
        "height = 5\n",
        "# Обрахунок площі фігури\n",
        "area = width * height\n",
        "# Обрахунок периметру фігури\n",
        "perimeter = 2 * (width + height)\n",
        "# Виведення результатів\n",
        "print(\"Area\", area)\n",
        "print(\"Perimeter\", perimeter)"
      ],
      "execution_count": null,
      "outputs": [
        {
          "output_type": "stream",
          "name": "stdout",
          "text": [
            "Area 20\n",
            "Perimeter 18\n"
          ]
        }
      ]
    },
    {
      "cell_type": "markdown",
      "metadata": {
        "id": "r1wjuRIg-K5M"
      },
      "source": [
        "## Перевірка типу змінних\n"
      ]
    },
    {
      "cell_type": "code",
      "source": [
        "age = 25\n",
        "wight = 25.0\n",
        "room = '25'\n",
        "# Перевірка типу даних\n",
        "print(type(age), type(wight), type(room))"
      ],
      "metadata": {
        "colab": {
          "base_uri": "https://localhost:8080/"
        },
        "id": "jc6xEhdG8LNR",
        "outputId": "bc471dac-0e15-478a-f126-ff5548a1c67f"
      },
      "execution_count": null,
      "outputs": [
        {
          "output_type": "stream",
          "name": "stdout",
          "text": [
            "<class 'int'> <class 'float'> <class 'str'>\n"
          ]
        }
      ]
    },
    {
      "cell_type": "code",
      "source": [
        "# Зміна типу даних\n",
        "age = str(25)\n",
        "wight = int(25.0)\n",
        "room = float('25')\n",
        "\n",
        "# Перевірка чи змінився тип даних\n",
        "print(type(age), type(wight), type(room))"
      ],
      "metadata": {
        "colab": {
          "base_uri": "https://localhost:8080/"
        },
        "id": "1Xt_6Kjw8hzJ",
        "outputId": "5b1773fe-2e8e-4f31-dc22-8b20528025f7"
      },
      "execution_count": null,
      "outputs": [
        {
          "output_type": "stream",
          "name": "stdout",
          "text": [
            "<class 'str'> <class 'int'> <class 'float'>\n"
          ]
        }
      ]
    },
    {
      "cell_type": "code",
      "source": [
        "# Що відбувається коли у число має значення після коми і змінюється на ціле число?\n",
        "age = 25.6\n",
        "print(age, type(age))\n",
        "\n",
        "age = int(27.9)\n",
        "print(age, type(age))"
      ],
      "metadata": {
        "colab": {
          "base_uri": "https://localhost:8080/"
        },
        "id": "ytfxdvcN-Du3",
        "outputId": "62930668-2abc-4241-f89d-e9e57374fb2d"
      },
      "execution_count": null,
      "outputs": [
        {
          "output_type": "stream",
          "name": "stdout",
          "text": [
            "25.6 <class 'float'>\n",
            "27 <class 'int'>\n"
          ]
        }
      ]
    },
    {
      "cell_type": "markdown",
      "source": [
        "## Арифметичні оператори"
      ],
      "metadata": {
        "id": "grX0eoPEM1EW"
      }
    },
    {
      "cell_type": "code",
      "source": [
        "x = 10\n",
        "y = 3\n",
        "\n",
        "# Додавання\n",
        "print(\"Додавання \", x + y)\n",
        "\n",
        "# Віднімання\n",
        "print(\"Віднімання \", x - y)\n",
        "\n",
        "# Множення\n",
        "print(\"Множення \", x * y)\n",
        "\n",
        "# Ділення\n",
        "print(\"Ділення \", x / y)\n",
        "\n",
        "# Заокруглення результату ділення до двох знаків після коми\n",
        "print(\"Заокруглення результату ділення \", round(x / y, 2))\n",
        "\n",
        "# Цілочисельне ділення\n",
        "print(\"Цілочисельне ділення \", x // y)\n",
        "\n",
        "# Остача від ділення\n",
        "print(\"Остача від ділення \", x % y)\n",
        "\n",
        "# Піднесення до степеня\n",
        "print(\"Піднесення до степеня \", x ** y)\n"
      ],
      "metadata": {
        "colab": {
          "base_uri": "https://localhost:8080/"
        },
        "id": "a3hXre_FM0bu",
        "outputId": "8e5e810e-5da7-446c-f676-76b0b10192ae"
      },
      "execution_count": null,
      "outputs": [
        {
          "output_type": "stream",
          "name": "stdout",
          "text": [
            "Додавання  13\n",
            "Віднімання  7\n",
            "Множення  30\n",
            "Ділення  3.3333333333333335\n",
            "Заокруглення результату ділення  3.33\n",
            "Цілочисельне ділення  3\n",
            "Остача від ділення  1\n",
            "Піднесення до степеня  1000\n"
          ]
        }
      ]
    },
    {
      "cell_type": "markdown",
      "source": [
        "## Логічні оператори"
      ],
      "metadata": {
        "id": "vy7BpxMMQX87"
      }
    },
    {
      "cell_type": "code",
      "source": [
        "a = True\n",
        "b = False\n",
        "\n",
        "# Логічне \"І\" (AND)\n",
        "result = a and b  # False\n",
        "print(\"Логічне 'І' (AND) \", result)\n",
        "\n",
        "# Логічне \"АБО\" (OR)\n",
        "result = a or b  # True\n",
        "print(\"Логічне 'АБО' (OR) \", result)\n",
        "\n",
        "# Логічне \"НЕ\" (NOT)\n",
        "result = not a  # False\n",
        "print(\"Логічне 'НЕ' (NOT) \", result)"
      ],
      "metadata": {
        "colab": {
          "base_uri": "https://localhost:8080/"
        },
        "id": "9sqD9q-uQcoC",
        "outputId": "5294200a-da24-449d-c64e-468d1f417e8e"
      },
      "execution_count": null,
      "outputs": [
        {
          "output_type": "stream",
          "name": "stdout",
          "text": [
            "Логічне 'І' (AND)  False\n",
            "Логічне 'АБО' (OR)  True\n",
            "Логічне 'НЕ' (NOT)  False\n"
          ]
        }
      ]
    },
    {
      "cell_type": "markdown",
      "source": [
        "## Логічні вирази\n"
      ],
      "metadata": {
        "id": "gO50Ll6_Q9dC"
      }
    },
    {
      "cell_type": "code",
      "source": [
        "x = 5\n",
        "y = 7\n",
        "\n",
        "# Рівність\n",
        "result = x == y  # False\n",
        "print(\"Рівність \", result)\n",
        "\n",
        "# Нерівність\n",
        "result = x != y  # True\n",
        "print(\"Нерівність \", result)\n",
        "\n",
        "# Більше\n",
        "result = x > y  # False\n",
        "print(\"Більше \", result)\n",
        "\n",
        "# Менше\n",
        "result = x < y  # True\n",
        "print(\"Менше \", result)\n",
        "\n",
        "# Більше або рівне\n",
        "result = x >= y  # False\n",
        "print(\"Більше або рівне \", result)\n",
        "\n",
        "# Менше або рівне\n",
        "result = x <= y  # True\n",
        "print(\"Менше або рівне \", result)"
      ],
      "metadata": {
        "colab": {
          "base_uri": "https://localhost:8080/"
        },
        "id": "j1shGuK0Q_fr",
        "outputId": "d8a2cfe7-f951-4064-a345-184c592a9a16"
      },
      "execution_count": null,
      "outputs": [
        {
          "output_type": "stream",
          "name": "stdout",
          "text": [
            "Рівність  False\n",
            "Нерівність  True\n",
            "Більше  False\n",
            "Менше  True\n",
            "Більше або рівне  False\n",
            "Менше або рівне  True\n"
          ]
        }
      ]
    },
    {
      "cell_type": "markdown",
      "source": [
        "## Оператори присвоєння\n"
      ],
      "metadata": {
        "id": "4gqSgH62RhZQ"
      }
    },
    {
      "cell_type": "code",
      "source": [
        "x = 10  # Оператор присвоєння\n",
        "x += 5  # Оператор присвоєння зі збільшенням\n",
        "print(\"Оператор присвоєння зі збільшенням \", x)\n",
        "x -= 3  # Оператор присвоєння зі зменшенням\n",
        "print(\"Оператор присвоєння зі зменшенням \", x)\n",
        "x *= 2  # Оператор присвоєння з множенням\n",
        "print(\"Оператор присвоєння з множенням \", x)\n",
        "x /= 4  # Оператор присвоєння з діленням\n",
        "print(\"Оператор присвоєння з діленням \", x)\n",
        "x //= 3  # Оператор присвоєння з цілочисельним діленням\n",
        "print(\"Оператор присвоєння з цілочисельним діленням \", x)\n",
        "x %= 3  # Оператор присвоєння з остачею від ділення\n",
        "print(\"Оператор присвоєння з остачею від ділення \", x)\n",
        "x **= 4  # Оператор присвоєння з піднесенням до степеня\n",
        "print(\"Оператор присвоєння з піднесенням до степеня \", x)"
      ],
      "metadata": {
        "colab": {
          "base_uri": "https://localhost:8080/"
        },
        "id": "0gZGKJ5LRe-J",
        "outputId": "9f98620f-97ec-45be-f0b5-400f79216ed3"
      },
      "execution_count": null,
      "outputs": [
        {
          "output_type": "stream",
          "name": "stdout",
          "text": [
            "Оператор присвоєння зі збільшенням  15\n",
            "Оператор присвоєння зі зменшенням  12\n",
            "Оператор присвоєння з множенням  24\n",
            "Оператор присвоєння з діленням  6.0\n",
            "Оператор присвоєння з цілочисельним діленням  2.0\n",
            "Оператор присвоєння з остачею від ділення  2.0\n",
            "Оператор присвоєння з піднесенням до степеня  16.0\n"
          ]
        }
      ]
    },
    {
      "cell_type": "markdown",
      "source": [
        "## Перевірка ідентичності змінних\n",
        "\n"
      ],
      "metadata": {
        "id": "AqTwyXdR-zUG"
      }
    },
    {
      "cell_type": "code",
      "metadata": {
        "colab": {
          "base_uri": "https://localhost:8080/"
        },
        "id": "UUsMS9NT-ebC",
        "outputId": "698c05c0-e523-4ae1-dfb7-5f703ede4bed"
      },
      "source": [
        "# Ініціалізація змінних\n",
        "sentence_one = \"Hello world\"\n",
        "sentence_two = \"Hello \" + \"world\"\n",
        "\n",
        "# Відображення змінних\n",
        "print(f\"sentence one: {sentence_one}\", f\"sentence two: {sentence_two}\", sep=\"\\n\")\n",
        "\n",
        "# Відображення ідентичності і рівності\n",
        "print('Are sentences equal?:', sentence_one == sentence_two)\n",
        "print('Are sentences identical?:', sentence_one is sentence_two)"
      ],
      "execution_count": null,
      "outputs": [
        {
          "output_type": "stream",
          "name": "stdout",
          "text": [
            "sentence one: Hello world\n",
            "sentence two: Hello world\n",
            "Are sentences equal?: True\n",
            "Are sentences identical?: False\n"
          ]
        }
      ]
    },
    {
      "cell_type": "code",
      "source": [
        "# Перевірка місця збереження у пам'яті\n",
        "print(\"Path of sentence in memory\", id(sentence_one))\n",
        "print(\"Path of sentence in memory\", id(sentence_two))"
      ],
      "metadata": {
        "colab": {
          "base_uri": "https://localhost:8080/"
        },
        "id": "xNt8XA_c6O_D",
        "outputId": "72c54d83-35a3-4039-fd73-d3706f393302"
      },
      "execution_count": null,
      "outputs": [
        {
          "output_type": "stream",
          "name": "stdout",
          "text": [
            "Path of sentence in memory 140307328065968\n",
            "Path of sentence in memory 140307328289584\n"
          ]
        }
      ]
    },
    {
      "cell_type": "code",
      "source": [
        "value_one = 5 # \"Hello world\"\n",
        "value_two = 5 # \"Hello world\"\n",
        "\n",
        "# Відображення ідентичності і рівності змінних\n",
        "print('Are values equal?:', value_one == value_two)\n",
        "print('Are values identical?:', value_one is value_two)\n",
        "\n",
        "# Перевірка місця збереження у пам'яті\n",
        "print(\"Path of value in memory\", id(value_one))\n",
        "print(\"Path of value in memory\", id(value_two))"
      ],
      "metadata": {
        "colab": {
          "base_uri": "https://localhost:8080/"
        },
        "id": "2KEw1lBG6dOq",
        "outputId": "d97c4c97-049b-49b2-b22b-813108797958"
      },
      "execution_count": null,
      "outputs": [
        {
          "output_type": "stream",
          "name": "stdout",
          "text": [
            "Are values equal?: True\n",
            "Are values identical?: True\n",
            "Path of value in memory 140308578681200\n",
            "Path of value in memory 140308578681200\n"
          ]
        }
      ]
    },
    {
      "cell_type": "markdown",
      "source": [
        "## Введення даних\n"
      ],
      "metadata": {
        "id": "4f46GjPJGWVH"
      }
    },
    {
      "cell_type": "code",
      "source": [
        "entertainment = input(\"Введіть любиму справу: \")\n",
        "print(f\"Більш за все люблю: {entertainment} !\")"
      ],
      "metadata": {
        "id": "c8xD5VM5DlMY"
      },
      "execution_count": null,
      "outputs": []
    },
    {
      "cell_type": "code",
      "source": [
        "age = int(input(\"Введіть ваш вік: \"))\n",
        "year = 2023 - age\n",
        "print(\"Ви народилися у \" + str(year) + \" році\")"
      ],
      "metadata": {
        "colab": {
          "base_uri": "https://localhost:8080/"
        },
        "id": "ou2BrYDOJUvQ",
        "outputId": "cd656501-cbd5-4ba6-ec1a-97f14bf3cfae"
      },
      "execution_count": null,
      "outputs": [
        {
          "output_type": "stream",
          "name": "stdout",
          "text": [
            "Введіть ваш вік: 22\n",
            "Ви народилися у 2001 році.\n"
          ]
        }
      ]
    },
    {
      "cell_type": "code",
      "source": [
        "weight = float(input(\"Введіть вашу вагу (у кг): \"))\n",
        "height = float(input(\"Введіть ваш зріст (у метрах): \"))\n",
        "bmi = weight / (height ** 2)\n",
        "print(\"Ваш ІМТ: \" + str(round(bmi,2)))"
      ],
      "metadata": {
        "colab": {
          "base_uri": "https://localhost:8080/"
        },
        "id": "elxf5oByJgsX",
        "outputId": "59292055-757b-4e18-9322-724207df8f97"
      },
      "execution_count": null,
      "outputs": [
        {
          "output_type": "stream",
          "name": "stdout",
          "text": [
            "Введіть вашу вагу (у кг): 81.7\n",
            "Введіть ваш зріст (у метрах): 1.9\n",
            "Ваш ІМТ: 22.63\n"
          ]
        }
      ]
    },
    {
      "cell_type": "code",
      "source": [
        "\n"
      ],
      "metadata": {
        "id": "YfZI2dw9KBPv"
      },
      "execution_count": null,
      "outputs": []
    }
  ]
}